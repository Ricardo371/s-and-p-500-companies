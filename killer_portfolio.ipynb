{
  "nbformat": 4,
  "nbformat_minor": 0,
  "metadata": {
    "colab": {
      "name": "killer_portfolio.ipynb",
      "provenance": [],
      "collapsed_sections": [],
      "authorship_tag": "ABX9TyOPxBz3Or+jtcoICfOmY150",
      "include_colab_link": true
    },
    "kernelspec": {
      "display_name": "Python 3",
      "name": "python3"
    }
  },
  "cells": [
    {
      "cell_type": "markdown",
      "metadata": {
        "id": "view-in-github",
        "colab_type": "text"
      },
      "source": [
        "<a href=\"https://colab.research.google.com/github/Ricardo371/s-and-p-500-companies/blob/master/killer_portfolio.ipynb\" target=\"_parent\"><img src=\"https://colab.research.google.com/assets/colab-badge.svg\" alt=\"Open In Colab\"/></a>"
      ]
    },
    {
      "cell_type": "code",
      "metadata": {
        "id": "XARD9f8H1Hy8"
      },
      "source": [
        "#Description: We are going to optimize a portfolio based on the S&P500 listed companies.\r\n",
        "#import the libraries\r\n",
        "import pandas as pd\r\n",
        "import numpy as np\r\n",
        "import requests"
      ],
      "execution_count": 4,
      "outputs": []
    },
    {
      "cell_type": "code",
      "metadata": {
        "id": "uQL3YqZI152g"
      },
      "source": [
        "#Load the data. I got the data using this program I made. YOu can find it here https://github.com/Ricardo371/s-and-p-500-companies/blob/master/Stock_closingprice_data.ipynb\r\n",
        "#It is around 11 years of data. \r\n",
        "#from google.colab import files\r\n",
        "#files.upload()\r\n"
      ],
      "execution_count": 5,
      "outputs": []
    },
    {
      "cell_type": "code",
      "metadata": {
        "id": "9Gl7MrTc3Etp"
      },
      "source": [
        "# Now we store the data.\r\n",
        "#In retrospective I could have loaded the data from the files tab. \r\n",
        "#Much faster than thru the line code.\r\n",
        "df = pd.read_csv('prices_S&P500.csv')\r\n",
        "\r\n",
        "#I had the column of the date labeled as 'Symbol' so I use rename to change it to 'date'.\r\n",
        "df= df.rename(columns={'Symbol': 'Date'})\r\n",
        "\r\n",
        "#Set the date as the index\r\n",
        "df = df.set_index(pd.DatetimeIndex(df['Date'].values))\r\n",
        "\r\n",
        "#Remove the date colum\r\n",
        "df.drop(columns=['Date'], axis=1, inplace=True)"
      ],
      "execution_count": 6,
      "outputs": []
    },
    {
      "cell_type": "code",
      "metadata": {
        "id": "n8oc-iIz35_r"
      },
      "source": [
        "#Get the assets / tickers\r\n",
        "assets = df.columns"
      ],
      "execution_count": 7,
      "outputs": []
    },
    {
      "cell_type": "code",
      "metadata": {
        "colab": {
          "base_uri": "https://localhost:8080/"
        },
        "id": "cLGac-yt82O4",
        "outputId": "3d0dc777-d0f6-41f8-bb12-eedab83224ca"
      },
      "source": [
        "#Here we're going to use a package called PyPortfolioOpt to optimize our portfolio.\r\n",
        "%pip install PyPortfolioOpt"
      ],
      "execution_count": 8,
      "outputs": [
        {
          "output_type": "stream",
          "text": [
            "Collecting PyPortfolioOpt\n",
            "\u001b[?25l  Downloading https://files.pythonhosted.org/packages/46/55/7d39d78d554ee33a7317e345caf01339da11406c28f18bc48794fe967935/PyPortfolioOpt-1.4.1-py3-none-any.whl (56kB)\n",
            "\r\u001b[K     |█████▊                          | 10kB 19.2MB/s eta 0:00:01\r\u001b[K     |███████████▌                    | 20kB 21.0MB/s eta 0:00:01\r\u001b[K     |█████████████████▎              | 30kB 15.1MB/s eta 0:00:01\r\u001b[K     |███████████████████████         | 40kB 14.1MB/s eta 0:00:01\r\u001b[K     |████████████████████████████▉   | 51kB 9.6MB/s eta 0:00:01\r\u001b[K     |████████████████████████████████| 61kB 5.1MB/s \n",
            "\u001b[?25hRequirement already satisfied: pandas>=0.19 in /usr/local/lib/python3.6/dist-packages (from PyPortfolioOpt) (1.1.5)\n",
            "Collecting cvxpy<2.0.0,>=1.1.10\n",
            "\u001b[?25l  Downloading https://files.pythonhosted.org/packages/1e/25/c960568e00b8eea26b339e2b56121028c98bddb6ad66c4b9e1d71889f849/cvxpy-1.1.10.tar.gz (1.0MB)\n",
            "\u001b[K     |████████████████████████████████| 1.0MB 11.3MB/s \n",
            "\u001b[?25h  Installing build dependencies ... \u001b[?25l\u001b[?25hdone\n",
            "  Getting requirements to build wheel ... \u001b[?25l\u001b[?25hdone\n",
            "    Preparing wheel metadata ... \u001b[?25l\u001b[?25hdone\n",
            "Requirement already satisfied: numpy<2.0,>=1.12 in /usr/local/lib/python3.6/dist-packages (from PyPortfolioOpt) (1.19.5)\n",
            "Requirement already satisfied: scipy<2.0,>=1.3 in /usr/local/lib/python3.6/dist-packages (from PyPortfolioOpt) (1.4.1)\n",
            "Requirement already satisfied: pytz>=2017.2 in /usr/local/lib/python3.6/dist-packages (from pandas>=0.19->PyPortfolioOpt) (2018.9)\n",
            "Requirement already satisfied: python-dateutil>=2.7.3 in /usr/local/lib/python3.6/dist-packages (from pandas>=0.19->PyPortfolioOpt) (2.8.1)\n",
            "Requirement already satisfied: osqp>=0.4.1 in /usr/local/lib/python3.6/dist-packages (from cvxpy<2.0.0,>=1.1.10->PyPortfolioOpt) (0.6.2.post0)\n",
            "Requirement already satisfied: ecos>=2 in /usr/local/lib/python3.6/dist-packages (from cvxpy<2.0.0,>=1.1.10->PyPortfolioOpt) (2.0.7.post1)\n",
            "Requirement already satisfied: scs>=1.1.6 in /usr/local/lib/python3.6/dist-packages (from cvxpy<2.0.0,>=1.1.10->PyPortfolioOpt) (2.1.2)\n",
            "Requirement already satisfied: six>=1.5 in /usr/local/lib/python3.6/dist-packages (from python-dateutil>=2.7.3->pandas>=0.19->PyPortfolioOpt) (1.15.0)\n",
            "Requirement already satisfied: qdldl in /usr/local/lib/python3.6/dist-packages (from osqp>=0.4.1->cvxpy<2.0.0,>=1.1.10->PyPortfolioOpt) (0.1.5.post0)\n",
            "Building wheels for collected packages: cvxpy\n",
            "  Building wheel for cvxpy (PEP 517) ... \u001b[?25l\u001b[?25hdone\n",
            "  Created wheel for cvxpy: filename=cvxpy-1.1.10-cp36-cp36m-linux_x86_64.whl size=2683431 sha256=1efbba09065c78fd21d1137903c2a2f03a2dd7b5e66fbc4b2f126fcd5de22475\n",
            "  Stored in directory: /root/.cache/pip/wheels/64/d6/c9/9295499aefa5af80018eaabffd09216170a1349b45551fb8d5\n",
            "Successfully built cvxpy\n",
            "Installing collected packages: cvxpy, PyPortfolioOpt\n",
            "  Found existing installation: cvxpy 1.0.31\n",
            "    Uninstalling cvxpy-1.0.31:\n",
            "      Successfully uninstalled cvxpy-1.0.31\n",
            "Successfully installed PyPortfolioOpt-1.4.1 cvxpy-1.1.10\n"
          ],
          "name": "stdout"
        }
      ]
    },
    {
      "cell_type": "code",
      "metadata": {
        "id": "r0LhKPaC9txg"
      },
      "source": [
        "#Optimize the portfolio\r\n",
        "from pypfopt.efficient_frontier import EfficientFrontier\r\n",
        "from pypfopt import risk_models\r\n",
        "from pypfopt import expected_returns"
      ],
      "execution_count": 9,
      "outputs": []
    },
    {
      "cell_type": "code",
      "metadata": {
        "id": "aFnSnewaGdjK"
      },
      "source": [
        "#Calculate the expected annualized returns and the annualized sample covariance matrix of the daily asset returns.\r\n",
        "mu = expected_returns.mean_historical_return(df)\r\n",
        "S = risk_models.CovarianceShrinkage(df).ledoit_wolf()"
      ],
      "execution_count": 10,
      "outputs": []
    },
    {
      "cell_type": "code",
      "metadata": {
        "id": "Ed1tFE3_G6zb"
      },
      "source": [
        "#Optimize for the maximal Sharpe ratio.\r\n",
        "ef = EfficientFrontier(mu, S) #This will create the efficient frontier object."
      ],
      "execution_count": 11,
      "outputs": []
    },
    {
      "cell_type": "code",
      "metadata": {
        "colab": {
          "base_uri": "https://localhost:8080/"
        },
        "id": "_ypP9kr9IpiU",
        "outputId": "54cb0400-b099-46bf-ee4d-9003da2c1043"
      },
      "source": [
        "weights = ef.max_sharpe()"
      ],
      "execution_count": 12,
      "outputs": [
        {
          "output_type": "stream",
          "text": [
            "/usr/local/lib/python3.6/dist-packages/cvxpy/problems/problem.py:1126: UserWarning: Solution may be inaccurate. Try another solver, adjusting the solver settings, or solve with verbose=True for more information.\n",
            "  \"Solution may be inaccurate. Try another solver, \"\n"
          ],
          "name": "stderr"
        }
      ]
    },
    {
      "cell_type": "code",
      "metadata": {
        "colab": {
          "base_uri": "https://localhost:8080/"
        },
        "id": "upJZemmFMFtY",
        "outputId": "2696dbaf-6d59-4acc-8023-f2908c39d2f6"
      },
      "source": [
        "clean_weights = ef.clean_weights()\r\n",
        "print(clean_weights)\r\n",
        "ef.portfolio_performance(verbose=True)"
      ],
      "execution_count": 13,
      "outputs": [
        {
          "output_type": "stream",
          "text": [
            "OrderedDict([('MMM', 0.0), ('AOS', 0.0), ('ABT', 0.0), ('ABBV', 0.0), ('ABMD', 0.0), ('ACN', 0.0), ('ATVI', 0.0), ('ADBE', 0.0), ('AAP', 0.0), ('AMD', 0.0), ('AES', 0.0), ('AFL', 0.0), ('A', 0.0), ('APD', 0.0), ('AKAM', 0.0), ('ALK', 0.0), ('ALB', 0.0), ('ARE', 0.0), ('ALXN', 0.0), ('ALGN', 0.0), ('ALLE', 0.0), ('LNT', 0.0), ('ALL', 0.0), ('GOOGL', 0.0), ('GOOG', 0.0), ('MO', 0.0), ('AMZN', 0.0), ('AMCR', 0.0), ('AEE', 0.0), ('AAL', 0.00011), ('AEP', 0.0), ('AXP', 0.0), ('AIG', 0.0001), ('AMT', 0.0), ('AWK', 0.0), ('AMP', 0.0001), ('ABC', 0.0), ('AME', 0.0), ('AMGN', 0.0), ('APH', 0.0), ('ADI', 0.0), ('ANSS', 0.0), ('ANTM', 0.0), ('AON', 0.0), ('APA', 0.00013), ('AAPL', 0.0), ('AMAT', 0.0), ('APTV', 0.0), ('ADM', 0.0), ('ANET', 0.0), ('AJG', 0.0), ('AIZ', 0.0), ('T', 0.0), ('ATO', 0.0), ('ADSK', 0.0), ('ADP', 0.0), ('AZO', 0.0), ('AVB', 0.0), ('AVY', 0.0), ('BKR', 0.0001), ('BLL', 0.0), ('BAC', 0.0001), ('BAX', 0.0), ('BDX', 0.0), ('BRK.B', 0.0), ('BBY', 0.0), ('BIO', 0.0), ('BIIB', 0.0), ('BLK', 0.0), ('BA', 0.0), ('BKNG', 0.0), ('BWA', 0.0), ('BXP', 0.0), ('BSX', 0.0), ('BMY', 0.0), ('AVGO', 0.0), ('BR', 0.0), ('BF.B', 0.0), ('CHRW', 0.0), ('COG', 0.0), ('CDNS', 0.0), ('CPB', 0.0), ('COF', 0.0001), ('CAH', 0.0), ('KMX', 0.0), ('CCL', 0.00013), ('CARR', 0.85469), ('CTLT', 0.0), ('CAT', 0.0), ('CBOE', 0.0), ('CBRE', 0.0), ('CDW', 0.0), ('CE', 0.0), ('CNC', 0.0), ('CNP', 0.0), ('CERN', 0.0), ('CF', 0.0), ('SCHW', 0.0), ('CHTR', 0.0), ('CVX', 0.0), ('CMG', 0.0), ('CB', 0.0), ('CHD', 0.0), ('CI', 0.0), ('CINF', 0.0), ('CTAS', 0.0), ('CSCO', 0.0), ('C', 0.00011), ('CFG', 0.0), ('CTXS', 0.0), ('CME', 0.0), ('CMS', 0.0), ('KO', 0.0), ('CTSH', 0.0), ('CL', 0.0), ('CMCSA', 0.0), ('CMA', 0.00011), ('CAG', 0.0), ('COP', 0.0), ('ED', 0.0), ('STZ', 0.0), ('CPRT', 0.0), ('GLW', 0.0), ('CTVA', 0.0), ('COST', 0.0), ('CCI', 0.0), ('CSX', 0.0), ('CMI', 0.0), ('CVS', 0.0), ('DHI', 0.0), ('DHR', 0.0), ('DRI', 0.0), ('DVA', 0.0), ('DE', 0.0), ('DAL', 0.0), ('XRAY', 0.0), ('DVN', 0.00012), ('DXCM', 0.0), ('FANG', 0.0), ('DLR', 0.0), ('DFS', 0.00011), ('DISCA', 0.0), ('DISCK', 0.0), ('DISH', 0.0), ('DG', 0.0), ('DLTR', 0.0), ('D', 0.0), ('DPZ', 0.05087), ('DOV', 0.0), ('DOW', 0.0), ('DTE', 0.0), ('DUK', 0.0), ('DRE', 0.0), ('DD', 0.0), ('DXC', 0.0001), ('EMN', 0.0), ('ETN', 0.0), ('EBAY', 0.0), ('ECL', 0.0), ('EIX', 0.0), ('EW', 0.0), ('EA', 0.0), ('EMR', 0.0), ('ENPH', 0.0), ('ETR', 0.0), ('EOG', 0.0001), ('EFX', 0.0), ('EQIX', 0.0), ('EQR', 0.0), ('ESS', 0.0), ('EL', 0.0), ('ETSY', 0.0), ('RE', 0.0), ('EVRG', 0.0), ('ES', 0.0), ('EXC', 0.0), ('EXPE', 0.0), ('EXPD', 0.0), ('EXR', 0.0), ('XOM', 0.0), ('FFIV', 0.0), ('FB', 0.0), ('FAST', 0.0), ('FRT', 0.0), ('FDX', 0.0), ('FIS', 0.0), ('FITB', 0.00011), ('FRC', 0.0), ('FE', 0.0), ('FISV', 0.0), ('FLT', 0.0), ('FLIR', 0.0), ('FLS', 0.0001), ('FMC', 0.0), ('F', 0.0), ('FTNT', 0.0), ('FTV', 0.0), ('FBHS', 0.0), ('FOXA', 0.0), ('FOX', 0.0), ('BEN', 0.0), ('FCX', 0.00012), ('GPS', 0.0), ('GRMN', 0.0), ('IT', 0.0), ('GD', 0.0), ('GE', 0.0), ('GIS', 0.0), ('GM', 0.0), ('GPC', 0.0), ('GILD', 0.0), ('GPN', 0.0), ('GL', 0.0), ('GS', 0.0), ('GWW', 0.0), ('HAL', 0.00012), ('HBI', 0.0), ('HIG', 0.0), ('HAS', 0.0), ('HCA', 0.0), ('PEAK', 0.0), ('HSIC', 0.0), ('HES', 0.00011), ('HPE', 0.0), ('HLT', 0.0), ('HFC', 0.0), ('HOLX', 0.0), ('HD', 0.0), ('HON', 0.0), ('HRL', 0.0), ('HST', 0.0001), ('HWM', 0.00011), ('HPQ', 0.0), ('HUM', 0.0), ('HBAN', 0.0001), ('HII', 0.0), ('IEX', 0.0), ('IDXX', 0.0), ('INFO', 0.0), ('ITW', 0.0), ('ILMN', 0.0), ('INCY', 0.0), ('IR', 0.0), ('INTC', 0.0), ('ICE', 0.0), ('IBM', 0.0), ('IFF', 0.0), ('IP', 0.0), ('IPG', 0.0), ('INTU', 0.0), ('ISRG', 0.0), ('IVZ', 0.00011), ('IPGP', 0.0), ('IQV', 0.0), ('IRM', 0.0), ('JBHT', 0.0), ('JKHY', 0.0), ('J', 0.0), ('SJM', 0.0), ('JNJ', 0.0), ('JCI', 0.0), ('JPM', 0.0), ('JNPR', 0.0), ('KSU', 0.0), ('K', 0.0), ('KEY', 0.00011), ('KEYS', 0.0), ('KMB', 0.0), ('KIM', 0.0), ('KMI', 0.0), ('KLAC', 0.0), ('KHC', 0.0), ('KR', 0.0), ('LB', 0.0), ('LHX', 0.0), ('LH', 0.0), ('LRCX', 0.0), ('LW', 0.0), ('LVS', 0.0), ('LEG', 0.0), ('LDOS', 0.0), ('LEN', 0.0), ('LLY', 0.0), ('LNC', 0.00014), ('LIN', 0.0), ('LYV', 0.0), ('LKQ', 0.0), ('LMT', 0.0), ('L', 0.0), ('LOW', 0.0), ('LUMN', 0.0), ('LYB', 0.0001), ('MTB', 0.0), ('MRO', 0.00012), ('MPC', 0.0), ('MKTX', 0.0), ('MAR', 0.0), ('MMC', 0.0), ('MLM', 0.0), ('MAS', 0.0), ('MA', 0.0), ('MXIM', 0.0), ('MKC', 0.0), ('MCD', 0.0), ('MCK', 0.0), ('MDT', 0.0), ('MRK', 0.0), ('MET', 0.0001), ('MTD', 0.0), ('MGM', 0.00012), ('MCHP', 0.0), ('MU', 0.0), ('MSFT', 0.0), ('MAA', 0.0), ('MHK', 0.0), ('TAP', 0.0), ('MDLZ', 0.0), ('MNST', 0.0), ('MCO', 0.0), ('MS', 0.0001), ('MSI', 0.0), ('MSCI', 0.0), ('NDAQ', 0.0), ('NTAP', 0.0), ('NFLX', 0.00588), ('NWL', 0.0), ('NEM', 0.0), ('NWSA', 0.0), ('NWS', 0.0), ('NEE', 0.0), ('NLSN', 0.0), ('NKE', 0.0), ('NI', 0.0), ('NSC', 0.0), ('NTRS', 0.0), ('NOC', 0.0), ('NLOK', 0.0), ('NCLH', 0.00011), ('NOV', 0.00012), ('NRG', 0.0), ('NUE', 0.0), ('NVDA', 0.0), ('NVR', 0.0), ('ORLY', 0.0), ('OXY', 0.00012), ('ODFL', 0.0), ('OMC', 0.0), ('OKE', 0.0001), ('ORCL', 0.0), ('OTIS', 0.0), ('PCAR', 0.0), ('PKG', 0.0), ('PH', 0.0), ('PAYX', 0.0), ('PAYC', 0.0), ('PYPL', 0.02026), ('PNR', 0.0), ('PBCT', 0.0), ('PEP', 0.0), ('PKI', 0.0), ('PRGO', 0.0), ('PFE', 0.0), ('PM', 0.0), ('PSX', 0.0), ('PNW', 0.0), ('PXD', 0.00011), ('PNC', 0.0), ('POOL', 0.0), ('PPG', 0.0), ('PPL', 0.0), ('PFG', 0.00011), ('PG', 0.0), ('PGR', 0.0), ('PLD', 0.0), ('PRU', 0.00011), ('PEG', 0.0), ('PSA', 0.0), ('PHM', 0.0), ('PVH', 0.00011), ('QRVO', 0.0), ('QCOM', 0.0), ('PWR', 0.0), ('DGX', 0.0), ('RL', 0.0), ('RJF', 0.0), ('RTX', 0.0), ('O', 0.0), ('REG', 0.0), ('REGN', 0.0027), ('RF', 0.00012), ('RSG', 0.0), ('RMD', 0.0), ('RHI', 0.0), ('ROK', 0.0), ('ROL', 0.0), ('ROP', 0.0), ('ROST', 0.0), ('RCL', 0.00014), ('SPGI', 0.0), ('CRM', 0.0), ('SBAC', 0.0), ('SLB', 0.00011), ('STX', 0.0), ('SEE', 0.0), ('SRE', 0.0), ('NOW', 0.0), ('SHW', 0.0), ('SPG', 0.0), ('SWKS', 0.0), ('SLG', 0.0001), ('SNA', 0.0), ('SO', 0.0), ('LUV', 0.0), ('SWK', 0.0), ('SBUX', 0.0), ('STT', 0.0), ('STE', 0.0), ('SYK', 0.0), ('SIVB', 0.0), ('SYF', 0.0), ('SNPS', 0.0), ('SYY', 0.0), ('TMUS', 0.0), ('TROW', 0.0), ('TTWO', 0.0), ('TPR', 0.0), ('TGT', 0.0), ('TEL', 0.0), ('FTI', 0.00012), ('TDY', 0.0), ('TFX', 0.0), ('TER', 0.0), ('TSLA', 0.0), ('TXN', 0.0), ('TXT', 0.0001), ('BK', 0.0), ('CLX', 0.0354), ('COO', 0.0), ('HSY', 0.0), ('MOS', 0.0), ('TRV', 0.0), ('DIS', 0.0), ('TMO', 0.0), ('TJX', 0.0), ('TSCO', 0.0), ('TT', 0.0), ('TDG', 0.0), ('TRMB', 0.0), ('TFC', 0.0), ('TWTR', 0.0), ('TYL', 0.0), ('TSN', 0.0), ('USB', 0.0), ('UDR', 0.0), ('ULTA', 0.0), ('UAA', 0.0), ('UA', 0.0), ('UNP', 0.0), ('UAL', 0.00012), ('UPS', 0.0), ('URI', 0.00012), ('UNH', 0.0), ('UHS', 0.0), ('UNM', 0.00011), ('VLO', 0.00011), ('VAR', 0.0), ('VTR', 0.0), ('VRSN', 0.0), ('VRSK', 0.0), ('VZ', 0.0), ('VRTX', 0.0), ('VFC', 0.0), ('VIAC', 0.0), ('VTRS', 0.0), ('V', 0.0), ('VNT', 0.0), ('VNO', 0.0), ('VMC', 0.0), ('WRB', 0.0), ('WBA', 0.0), ('WMT', 0.0), ('WM', 0.0), ('WAT', 0.0), ('WEC', 0.0), ('WFC', 0.0), ('WELL', 0.0), ('WST', 0.0), ('WDC', 0.0), ('WU', 0.0), ('WAB', 0.0), ('WRK', 0.0), ('WY', 0.0), ('WHR', 0.0), ('WMB', 0.0), ('WLTW', 0.0), ('WYNN', 0.00011), ('XEL', 0.0), ('XRX', 0.0), ('XLNX', 0.0), ('XYL', 0.0), ('YUM', 0.0), ('ZBRA', 0.0), ('ZBH', 0.0), ('ZION', 0.0001), ('ZTS', 0.0)])\n",
            "Expected annual return: 220.3%\n",
            "Annual volatility: 15.6%\n",
            "Sharpe Ratio: 13.99\n"
          ],
          "name": "stdout"
        },
        {
          "output_type": "execute_result",
          "data": {
            "text/plain": [
              "(2.202665866269034, 0.15596538542164995, 13.994553088611497)"
            ]
          },
          "metadata": {
            "tags": []
          },
          "execution_count": 13
        }
      ]
    },
    {
      "cell_type": "code",
      "metadata": {
        "colab": {
          "base_uri": "https://localhost:8080/"
        },
        "id": "aMNmK3hc8ofa",
        "outputId": "043ea291-31ab-4397-e2ee-400f3f9dad4f"
      },
      "source": [
        "%pip install pulp"
      ],
      "execution_count": 14,
      "outputs": [
        {
          "output_type": "stream",
          "text": [
            "Collecting pulp\n",
            "\u001b[?25l  Downloading https://files.pythonhosted.org/packages/14/c4/0eec14a0123209c261de6ff154ef3be5cad3fd557c084f468356662e0585/PuLP-2.4-py3-none-any.whl (40.6MB)\n",
            "\u001b[K     |████████████████████████████████| 40.6MB 112kB/s \n",
            "\u001b[?25hCollecting amply>=0.1.2\n",
            "  Downloading https://files.pythonhosted.org/packages/f3/c5/dfa09dd2595a2ab2ab4e6fa7bebef9565812722e1980d04b0edce5032066/amply-0.1.4-py3-none-any.whl\n",
            "Requirement already satisfied: docutils>=0.3 in /usr/local/lib/python3.6/dist-packages (from amply>=0.1.2->pulp) (0.16)\n",
            "Requirement already satisfied: pyparsing in /usr/local/lib/python3.6/dist-packages (from amply>=0.1.2->pulp) (2.4.7)\n",
            "Installing collected packages: amply, pulp\n",
            "Successfully installed amply-0.1.4 pulp-2.4\n"
          ],
          "name": "stdout"
        }
      ]
    },
    {
      "cell_type": "code",
      "metadata": {
        "id": "Nl332okB8Ci5"
      },
      "source": [
        "#Get the discrete allocation of each share per stock\r\n",
        "from pypfopt.discrete_allocation import DiscreteAllocation, get_latest_prices\r\n",
        "\r\n",
        "portfolio_val = 1000\r\n",
        "latest_prices = get_latest_prices(df)\r\n",
        "latest_prices = latest_prices.fillna(0)\r\n",
        "weights = clean_weights"
      ],
      "execution_count": 28,
      "outputs": []
    },
    {
      "cell_type": "code",
      "metadata": {
        "id": "uzWK2TGjJRJu"
      },
      "source": [
        "da = DiscreteAllocation(weights, latest_prices, total_portfolio_value = portfolio_val)\r\n"
      ],
      "execution_count": 29,
      "outputs": []
    },
    {
      "cell_type": "code",
      "metadata": {
        "id": "1Fx8flU3LlwQ",
        "colab": {
          "base_uri": "https://localhost:8080/"
        },
        "outputId": "164dade9-09cf-4a39-c513-5c787e2e9362"
      },
      "source": [
        "allocation, leftover = da.lp_portfolio()\r\n",
        "print('Discrete allocation: ', allocation)\r\n",
        "print('Funds remaining: $', leftover)"
      ],
      "execution_count": 30,
      "outputs": [
        {
          "output_type": "stream",
          "text": [
            "Discrete allocation:  {'APA': 1, 'CCL': 1, 'CARR': 23, 'DVN': 1, 'HST': 1, 'KEY': 1, 'MRO': 1, 'NOV': 1, 'RF': 1, 'FTI': 1}\n",
            "Funds remaining: $ 0.5300321578980629\n"
          ],
          "name": "stdout"
        }
      ]
    },
    {
      "cell_type": "code",
      "metadata": {
        "id": "Mf34FUVGHWFt"
      },
      "source": [
        "#Create a function to get the companies name\r\n",
        "def get_company_name(symbol):\r\n",
        "  url = 'http://d.yimg.com/autoc.finance.yahoo.com/autoc?query='+symbol+'&region=1&lang=en'\r\n",
        "  result = requests.get(url).json()\r\n",
        "  for r in result['ResultSet']['Result']:\r\n",
        "    if r['symbol']==symbol:\r\n",
        "      return r['name']"
      ],
      "execution_count": 37,
      "outputs": []
    },
    {
      "cell_type": "code",
      "metadata": {
        "id": "BtaoGX8oeFL_"
      },
      "source": [
        "#Store the name into a list\r\n",
        "company_name =[]\r\n",
        "for symbol in allocation:\r\n",
        "  company_name.append(get_company_name(symbol))"
      ],
      "execution_count": 38,
      "outputs": []
    },
    {
      "cell_type": "code",
      "metadata": {
        "id": "0nfKgZOWeTfP"
      },
      "source": [
        "#Get the discrete allocation values\r\n",
        "discrete_allocation_list = []\r\n",
        "for symbol in allocation:\r\n",
        "  discrete_allocation_list.append(allocation.get(symbol))"
      ],
      "execution_count": 39,
      "outputs": []
    },
    {
      "cell_type": "code",
      "metadata": {
        "id": "Tmprf4_oekui"
      },
      "source": [
        "#Create a dataframe for the portfolio\r\n",
        "portfolio_df = pd.DataFrame(columns=['Company_name', 'Company_ticker', 'Discrete_val_'+str(portfolio_val)])"
      ],
      "execution_count": 40,
      "outputs": []
    },
    {
      "cell_type": "code",
      "metadata": {
        "id": "e-vO3PWwflLv"
      },
      "source": [
        "portfolio_df['Company_name']= company_name\r\n",
        "portfolio_df['Company_ticker']= allocation\r\n",
        "portfolio_df['Discrete_val_'+str(portfolio_val)]= discrete_allocation_list"
      ],
      "execution_count": 41,
      "outputs": []
    },
    {
      "cell_type": "code",
      "metadata": {
        "colab": {
          "base_uri": "https://localhost:8080/",
          "height": 359
        },
        "id": "kVbInlXYf5zg",
        "outputId": "7d35cc2a-cee3-4056-8cd8-8951ff9aab6f"
      },
      "source": [
        "portfolio_df"
      ],
      "execution_count": 42,
      "outputs": [
        {
          "output_type": "execute_result",
          "data": {
            "text/html": [
              "<div>\n",
              "<style scoped>\n",
              "    .dataframe tbody tr th:only-of-type {\n",
              "        vertical-align: middle;\n",
              "    }\n",
              "\n",
              "    .dataframe tbody tr th {\n",
              "        vertical-align: top;\n",
              "    }\n",
              "\n",
              "    .dataframe thead th {\n",
              "        text-align: right;\n",
              "    }\n",
              "</style>\n",
              "<table border=\"1\" class=\"dataframe\">\n",
              "  <thead>\n",
              "    <tr style=\"text-align: right;\">\n",
              "      <th></th>\n",
              "      <th>Company_name</th>\n",
              "      <th>Company_ticker</th>\n",
              "      <th>Discrete_val_1000</th>\n",
              "    </tr>\n",
              "  </thead>\n",
              "  <tbody>\n",
              "    <tr>\n",
              "      <th>0</th>\n",
              "      <td>Apache Corporation</td>\n",
              "      <td>APA</td>\n",
              "      <td>1</td>\n",
              "    </tr>\n",
              "    <tr>\n",
              "      <th>1</th>\n",
              "      <td>Carnival Corporation &amp; plc</td>\n",
              "      <td>CCL</td>\n",
              "      <td>1</td>\n",
              "    </tr>\n",
              "    <tr>\n",
              "      <th>2</th>\n",
              "      <td>Carrier Global Corporation</td>\n",
              "      <td>CARR</td>\n",
              "      <td>23</td>\n",
              "    </tr>\n",
              "    <tr>\n",
              "      <th>3</th>\n",
              "      <td>Devon Energy Corporation</td>\n",
              "      <td>DVN</td>\n",
              "      <td>1</td>\n",
              "    </tr>\n",
              "    <tr>\n",
              "      <th>4</th>\n",
              "      <td>Host Hotels &amp; Resorts, Inc.</td>\n",
              "      <td>HST</td>\n",
              "      <td>1</td>\n",
              "    </tr>\n",
              "    <tr>\n",
              "      <th>5</th>\n",
              "      <td>KeyCorp</td>\n",
              "      <td>KEY</td>\n",
              "      <td>1</td>\n",
              "    </tr>\n",
              "    <tr>\n",
              "      <th>6</th>\n",
              "      <td>Marathon Oil Corporation</td>\n",
              "      <td>MRO</td>\n",
              "      <td>1</td>\n",
              "    </tr>\n",
              "    <tr>\n",
              "      <th>7</th>\n",
              "      <td>NOV Inc.</td>\n",
              "      <td>NOV</td>\n",
              "      <td>1</td>\n",
              "    </tr>\n",
              "    <tr>\n",
              "      <th>8</th>\n",
              "      <td>Regions Financial Corporation</td>\n",
              "      <td>RF</td>\n",
              "      <td>1</td>\n",
              "    </tr>\n",
              "    <tr>\n",
              "      <th>9</th>\n",
              "      <td>TechnipFMC plc</td>\n",
              "      <td>FTI</td>\n",
              "      <td>1</td>\n",
              "    </tr>\n",
              "  </tbody>\n",
              "</table>\n",
              "</div>"
            ],
            "text/plain": [
              "                    Company_name Company_ticker  Discrete_val_1000\n",
              "0             Apache Corporation            APA                  1\n",
              "1     Carnival Corporation & plc            CCL                  1\n",
              "2     Carrier Global Corporation           CARR                 23\n",
              "3       Devon Energy Corporation            DVN                  1\n",
              "4    Host Hotels & Resorts, Inc.            HST                  1\n",
              "5                        KeyCorp            KEY                  1\n",
              "6       Marathon Oil Corporation            MRO                  1\n",
              "7                       NOV Inc.            NOV                  1\n",
              "8  Regions Financial Corporation             RF                  1\n",
              "9                 TechnipFMC plc            FTI                  1"
            ]
          },
          "metadata": {
            "tags": []
          },
          "execution_count": 42
        }
      ]
    }
  ]
}